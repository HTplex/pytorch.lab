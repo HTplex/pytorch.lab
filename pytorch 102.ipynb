{
 "cells": [
  {
   "cell_type": "code",
   "execution_count": 32,
   "metadata": {},
   "outputs": [],
   "source": [
    "import torch\n",
    "from torch.autograd import Variable"
   ]
  },
  {
   "cell_type": "code",
   "execution_count": 38,
   "metadata": {},
   "outputs": [
    {
     "name": "stdout",
     "output_type": "stream",
     "text": [
      "Variable containing:\n",
      " 1  1  1\n",
      " 1  1  1\n",
      " 1  1  1\n",
      " 1  1  1\n",
      " 1  1  1\n",
      "[torch.FloatTensor of size 5x3]\n",
      "\n",
      "Variable containing:\n",
      " 3  3  3\n",
      " 3  3  3\n",
      " 3  3  3\n",
      " 3  3  3\n",
      " 3  3  3\n",
      "[torch.FloatTensor of size 5x3]\n",
      "\n",
      "<AddBackward0 object at 0x1142c41d0>\n",
      "Variable containing:\n",
      " 12  12  12\n",
      " 12  12  12\n",
      " 12  12  12\n",
      " 12  12  12\n",
      " 12  12  12\n",
      "[torch.FloatTensor of size 5x3]\n",
      "\n",
      "Variable containing:\n",
      " 0.4000  0.4000  0.4000\n",
      " 0.4000  0.4000  0.4000\n",
      " 0.4000  0.4000  0.4000\n",
      " 0.4000  0.4000  0.4000\n",
      " 0.4000  0.4000  0.4000\n",
      "[torch.FloatTensor of size 5x3]\n",
      "\n",
      "None\n",
      "Variable containing:\n",
      " 0.4667  0.4667  0.4667\n",
      " 0.4667  0.4667  0.4667\n",
      " 0.4667  0.4667  0.4667\n",
      " 0.4667  0.4667  0.4667\n",
      " 0.4667  0.4667  0.4667\n",
      "[torch.FloatTensor of size 5x3]\n",
      "\n"
     ]
    }
   ],
   "source": [
    "x = Variable(torch.ones(5, 3), requires_grad=True)\n",
    "print(x)\n",
    "y = x + 2\n",
    "print(y)\n",
    "print(y.grad_fn)\n",
    "z = y*y+3\n",
    "output = z.mean()\n",
    "print(z)\n",
    "output.backward()\n",
    "print(x.grad)\n",
    "y.mean().backward()\n",
    "print(x.grad)"
   ]
  },
  {
   "cell_type": "code",
   "execution_count": 22,
   "metadata": {},
   "outputs": [],
   "source": []
  },
  {
   "cell_type": "code",
   "execution_count": null,
   "metadata": {},
   "outputs": [],
   "source": []
  }
 ],
 "metadata": {
  "kernelspec": {
   "display_name": "Python 3",
   "language": "python",
   "name": "python3"
  },
  "language_info": {
   "codemirror_mode": {
    "name": "ipython",
    "version": 3
   },
   "file_extension": ".py",
   "mimetype": "text/x-python",
   "name": "python",
   "nbconvert_exporter": "python",
   "pygments_lexer": "ipython3",
   "version": "3.6.0"
  }
 },
 "nbformat": 4,
 "nbformat_minor": 2
}
